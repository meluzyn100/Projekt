{
 "cells": [
  {
   "cell_type": "markdown",
   "metadata": {},
   "source": [
    "# Program słuzacy do obliczeń zwiazanych z połozeniem planet\n",
    "## Wy programie wykorzystujemy biblioteke AstroLib oraz Plot\n",
    "\n",
    "Niestety aktualna werja biblioteki AstroLib posiada w sobie mały bład.\n",
    "Tyczy sie on zle zdefiniowanego okresu orbitalnego marsa.\n",
    "\n",
    "Aby go usunać wystarczy przejść do katalogu .julia/packages/AstroLib/Wmr2L/src \n",
    "i w pliku common.jl na samym dole w definicji marsa zmienić 87.9691*86400 (usmy argument) na 687.9691*86400\n",
    "**Naprawa tego błędu nie jest wymagana aby program funkcjonował**"
   ]
  }
 ],
 "metadata": {
  "kernelspec": {
   "display_name": "Julia 1.4.0-rc2",
   "language": "julia",
   "name": "julia-1.4"
  },
  "language_info": {
   "file_extension": ".jl",
   "mimetype": "application/julia",
   "name": "julia",
   "version": "1.4.0"
  }
 },
 "nbformat": 4,
 "nbformat_minor": 4
}
