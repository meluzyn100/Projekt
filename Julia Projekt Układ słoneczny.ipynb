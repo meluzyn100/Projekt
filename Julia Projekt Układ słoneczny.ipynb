{
 "cells": [
  {
   "cell_type": "markdown",
   "metadata": {},
   "source": [
    "# Program słuzacy do obliczeń zwiazanych z połozeniem planet\n",
    "## Wy programie wykorzystujemy biblioteke AstroLib oraz Plot\n",
    "\n",
    "Niestety aktualna werja biblioteki AstroLib posiada w sobie mały bład.\n",
    "Tyczy sie on zle zdefiniowanego okresu orbitalnego marsa.\n",
    "\n",
    "Aby go usunać wystarczy przejść do katalogu .julia/packages/AstroLib/Wmr2L/src \n",
    "i w pliku common.jl na samym dole w definicji marsa zmienić 87.9691\\*86400 (usmy argument) na 687.9691\\*86400\n",
    "\n",
    "**Naprawa tego błędu nie jest wymagana aby program działał**"
   ]
  },
  {
   "cell_type": "code",
   "execution_count": 3,
   "metadata": {},
   "outputs": [
    {
     "name": "stdout",
     "output_type": "stream",
     "text": [
      "XD"
     ]
    }
   ],
   "source": [
    "print(\"XD\")"
   ]
  },
  {
   "cell_type": "code",
   "execution_count": 20,
   "metadata": {},
   "outputs": [
    {
     "name": "stderr",
     "output_type": "stream",
     "text": [
      "WARNING: replacing module A.\n"
     ]
    },
    {
     "data": {
      "text/plain": [
       "Main.A"
      ]
     },
     "execution_count": 20,
     "metadata": {},
     "output_type": "execute_result"
    }
   ],
   "source": [
    "include(\"testy2.jl\")#sciaganie modułu"
   ]
  },
  {
   "cell_type": "code",
   "execution_count": 22,
   "metadata": {},
   "outputs": [
    {
     "data": {
      "text/plain": [
       "42"
      ]
     },
     "execution_count": 22,
     "metadata": {},
     "output_type": "execute_result"
    }
   ],
   "source": [
    "using Main.A #odpalenie modułu\n",
    "x"
   ]
  }
 ],
 "metadata": {
  "kernelspec": {
   "display_name": "Julia 1.3.1",
   "language": "julia",
   "name": "julia-1.3"
  },
  "language_info": {
   "file_extension": ".jl",
   "mimetype": "application/julia",
   "name": "julia",
   "version": "1.3.1"
  }
 },
 "nbformat": 4,
 "nbformat_minor": 4
}
